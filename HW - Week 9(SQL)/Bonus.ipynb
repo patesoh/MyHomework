{
 "cells": [
  {
   "cell_type": "code",
   "execution_count": 12,
   "metadata": {},
   "outputs": [],
   "source": [
    "from sqlalchemy import create_engine\n",
    "import pandas as pd\n",
    "import seaborn as sns\n",
    "import matplotlib.pyplot as plt\n",
    "#for security purposes, login credentials stored in variable 'postgrescred'\n",
    "from config import postgrescred\n",
    "\n",
    "#connect to the specific database containing the employee data tables\n",
    "engine = create_engine(postgrescred)\n",
    "conn = engine.connect()"
   ]
  },
  {
   "cell_type": "code",
   "execution_count": 13,
   "metadata": {},
   "outputs": [
    {
     "name": "stdout",
     "output_type": "stream",
     "text": [
      "   emp_no  salary   from_date     to_date\n",
      "0   10001   60117  1986-06-26  1987-06-26\n",
      "1   10002   65828  1996-08-03  1997-08-03\n",
      "2   10003   40006  1995-12-03  1996-12-02\n",
      "3   10004   40054  1986-12-01  1987-12-01\n",
      "4   10005   78228  1989-09-12  1990-09-12\n",
      "   emp_no            title   from_date     to_date\n",
      "0   10001  Senior Engineer  1986-06-26  9999-01-01\n",
      "1   10002            Staff  1996-08-03  9999-01-01\n",
      "2   10003  Senior Engineer  1995-12-03  9999-01-01\n",
      "3   10004         Engineer  1986-12-01  1995-12-01\n",
      "4   10004  Senior Engineer  1995-12-01  9999-01-01\n"
     ]
    }
   ],
   "source": [
    "#bring the salaries table and convert it to a pandas dataframe\n",
    "df=pd.read_sql(\"select * from salaries\", conn)\n",
    "#bring the titles table and convert it to a pandas dataframe\n",
    "df1=pd.read_sql(\"select * from titles\", conn)\n",
    "print(df.head(5))\n",
    "print(df1.head(5))"
   ]
  },
  {
   "cell_type": "code",
   "execution_count": 14,
   "metadata": {},
   "outputs": [
    {
     "name": "stdout",
     "output_type": "stream",
     "text": [
      "        emp_no  salary from_date_x   to_date_x         title from_date_y  \\\n",
      "155577  205000  129492  1991-10-12  1992-10-11  Senior Staff  1999-10-12   \n",
      "155578  205000  129492  1991-10-12  1992-10-11         Staff  1991-10-12   \n",
      "50526    44188  127238  1991-03-16  1992-03-15  Senior Staff  1991-03-16   \n",
      "361774  444756  127041  1999-06-14  2000-06-13         Staff  1999-06-14   \n",
      "381825  458302  126703  1998-10-05  1999-10-05         Staff  1998-10-05   \n",
      "\n",
      "         to_date_y  \n",
      "155577  9999-01-01  \n",
      "155578  1999-10-12  \n",
      "50526   9999-01-01  \n",
      "361774  9999-01-01  \n",
      "381825  9999-01-01  \n"
     ]
    }
   ],
   "source": [
    "# Use inner join on emp_no into a single dataset\n",
    "combinedata=pd.merge(df,df1,on ='emp_no',how ='outer')\n",
    "combinedata.sort_values(by=['salary'],inplace=True, ascending=False)\n",
    "print(combinedata.head(5))\n"
   ]
  },
  {
   "cell_type": "code",
   "execution_count": 8,
   "metadata": {},
   "outputs": [],
   "source": [
    "%matplotlib inline"
   ]
  },
  {
   "cell_type": "code",
   "execution_count": 15,
   "metadata": {},
   "outputs": [
    {
     "data": {
      "image/png": "[encoded data removed]",
      "text/plain": [
       "<Figure size 360x360 with 1 Axes>"
      ]
     },
     "metadata": {
      "needs_background": "light"
     },
     "output_type": "display_data"
    }
   ],
   "source": [
    "#plot for graduation outcomes based on english proficiency\n",
    "fg1 = sns.catplot(x='title', y='salary',  \n",
    "                        data=combinedata, kind='bar')\n",
    "fg1.set_xlabels('')\n",
    "plt.xticks(rotation=90)\n",
    "fg1.set_ylabels('')\n",
    "plt.title(\"Average Salary vs. Title\")\n",
    "fg1.set_axis_labels('Job Title', 'Average Salary')\n",
    "fg1.savefig(\"BarGraph-SalaryTitle.jpeg\")"
   ]
  },
  {
   "cell_type": "code",
   "execution_count": null,
   "metadata": {},
   "outputs": [],
   "source": []
  },
  {
   "cell_type": "code",
   "execution_count": null,
   "metadata": {},
   "outputs": [],
   "source": []
  }
 ],
 "metadata": {
  "kernelspec": {
   "display_name": "Python 3",
   "language": "python",
   "name": "python3"
  },
  "language_info": {
   "codemirror_mode": {
    "name": "ipython",
    "version": 3
   },
   "file_extension": ".py",
   "mimetype": "text/x-python",
   "name": "python",
   "nbconvert_exporter": "python",
   "pygments_lexer": "ipython3",
   "version": "3.7.3"
  }
 },
 "nbformat": 4,
 "nbformat_minor": 2
}
